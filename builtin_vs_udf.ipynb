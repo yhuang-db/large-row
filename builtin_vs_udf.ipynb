{
 "cells": [
  {
   "cell_type": "code",
   "execution_count": 1,
   "metadata": {},
   "outputs": [
    {
     "name": "stderr",
     "output_type": "stream",
     "text": [
      "Setting default log level to \"WARN\".\n",
      "To adjust logging level use sc.setLogLevel(newLevel). For SparkR, use setLogLevel(newLevel).\n",
      "24/10/18 12:52:38 WARN NativeCodeLoader: Unable to load native-hadoop library for your platform... using builtin-java classes where applicable\n"
     ]
    },
    {
     "data": {
      "text/plain": [
       "<function __main__.udf_upper(text)>"
      ]
     },
     "execution_count": 1,
     "metadata": {},
     "output_type": "execute_result"
    }
   ],
   "source": [
    "from pyspark.sql import SparkSession\n",
    "\n",
    "spark = SparkSession.builder.appName(\"LargeRowBenchmark\").getOrCreate()\n",
    "\n",
    "\n",
    "# UDF\n",
    "def udf_upper(text):\n",
    "    return text.upper()\n",
    "\n",
    "\n",
    "spark.udf.register(\"udf_upper\", udf_upper)"
   ]
  },
  {
   "cell_type": "code",
   "execution_count": 2,
   "metadata": {},
   "outputs": [
    {
     "name": "stderr",
     "output_type": "stream",
     "text": [
      "                                                                                \r"
     ]
    },
    {
     "name": "stdout",
     "output_type": "stream",
     "text": [
      "root\n",
      " |-- id: long (nullable = true)\n",
      " |-- 1m_string: string (nullable = true)\n",
      " |-- 10m_string: string (nullable = true)\n",
      " |-- 20m_string: string (nullable = true)\n",
      " |-- 30m_string: string (nullable = true)\n",
      " |-- 40m_string: string (nullable = true)\n",
      " |-- 50m_string: string (nullable = true)\n",
      " |-- 60m_string: string (nullable = true)\n",
      " |-- 70m_string: string (nullable = true)\n",
      " |-- 80m_string: string (nullable = true)\n",
      " |-- 90m_string: string (nullable = true)\n",
      " |-- 100m_string: string (nullable = true)\n",
      "\n",
      "n_row: 5 n_col: 12\n"
     ]
    },
    {
     "name": "stderr",
     "output_type": "stream",
     "text": [
      "24/10/18 12:52:50 WARN GarbageCollectionMetrics: To enable non-built-in garbage collector(s) List(G1 Concurrent GC), users should configure it(them) to spark.eventLog.gcMetrics.youngGenerationGarbageCollectors or spark.eventLog.gcMetrics.oldGenerationGarbageCollectors\n"
     ]
    }
   ],
   "source": [
    "df = spark.read.parquet(f\"large_string_5row.parquet\")\n",
    "df.createOrReplaceTempView(\"T\")\n",
    "df.printSchema()\n",
    "print(\"n_row:\", df.count(), \"n_col:\", len(df.columns))\n",
    "# df.show(1)"
   ]
  },
  {
   "cell_type": "code",
   "execution_count": null,
   "metadata": {},
   "outputs": [],
   "source": [
    "# builtin: 50m_string on large_string_5row.parquet\n",
    "# builtin: 40m_string on large_string_10row.parquet\n",
    "spark.sql(\"SELECT upper(50m_string) FROM T\").write.parquet(\"output_1.parquet\", mode=\"overwrite\")"
   ]
  },
  {
   "cell_type": "code",
   "execution_count": null,
   "metadata": {},
   "outputs": [],
   "source": [
    "# UDF: 30m_string on large_string_5row.parquet\n",
    "# UDF: 20m_string on large_string_10row.parquet\n",
    "spark.sql(\"SELECT udf_upper(30m_string) FROM T\").write.parquet(\"output_2.parquet\", mode=\"overwrite\")"
   ]
  },
  {
   "cell_type": "markdown",
   "metadata": {},
   "source": [
    "# check"
   ]
  },
  {
   "cell_type": "code",
   "execution_count": null,
   "metadata": {},
   "outputs": [],
   "source": [
    "# check\n",
    "df_output = spark.read.parquet(\"output_2.parquet\")\n",
    "df_output.show(1)"
   ]
  },
  {
   "cell_type": "code",
   "execution_count": 5,
   "metadata": {},
   "outputs": [],
   "source": [
    "spark.stop()"
   ]
  },
  {
   "cell_type": "code",
   "execution_count": null,
   "metadata": {},
   "outputs": [],
   "source": []
  }
 ],
 "metadata": {
  "kernelspec": {
   "display_name": "venv",
   "language": "python",
   "name": "python3"
  },
  "language_info": {
   "codemirror_mode": {
    "name": "ipython",
    "version": 3
   },
   "file_extension": ".py",
   "mimetype": "text/x-python",
   "name": "python",
   "nbconvert_exporter": "python",
   "pygments_lexer": "ipython3",
   "version": "3.12.7"
  }
 },
 "nbformat": 4,
 "nbformat_minor": 2
}
