{
 "cells": [
  {
   "cell_type": "markdown",
   "metadata": {},
   "source": [
    "|        | 10_col | 20_col | 30_col | 40_col |\n",
    "| ------ | ------ | ------ | ------ | ------ |\n",
    "| 10_row | pass   | pass   | pass   | pass   |\n",
    "| 20_row | Fail   |        |        |        |"
   ]
  },
  {
   "cell_type": "code",
   "execution_count": null,
   "metadata": {},
   "outputs": [],
   "source": [
    "from pyspark.sql import SparkSession\n",
    "\n",
    "spark = SparkSession.builder.appName(\"LargeRowBenchmark\").getOrCreate()\n",
    "\n",
    "\n",
    "# UDF\n",
    "def udf_upper(text):\n",
    "    return text.upper()\n",
    "\n",
    "\n",
    "spark.udf.register(\"udf_upper\", udf_upper)"
   ]
  },
  {
   "cell_type": "code",
   "execution_count": null,
   "metadata": {},
   "outputs": [],
   "source": [
    "# pass\n",
    "df = spark.read.parquet(f\"10m_string_10col_10row.parquet\")\n",
    "df.createOrReplaceTempView(\"T\")\n",
    "df.printSchema()\n",
    "print(\"n_row:\", df.count(), \"n_col:\", len(df.columns))\n",
    "spark.sql(\"SELECT udf_upper(10m_string_1) FROM T\").write.parquet(\"output_3.parquet\", mode=\"overwrite\")"
   ]
  },
  {
   "cell_type": "code",
   "execution_count": null,
   "metadata": {},
   "outputs": [],
   "source": [
    "# pass\n",
    "df = spark.read.parquet(f\"10m_string_20col_10row.parquet\")\n",
    "df.createOrReplaceTempView(\"T\")\n",
    "df.printSchema()\n",
    "print(\"n_row:\", df.count(), \"n_col:\", len(df.columns))\n",
    "spark.sql(\"SELECT udf_upper(10m_string_1) FROM T\").write.parquet(\"output_4.parquet\", mode=\"overwrite\")"
   ]
  },
  {
   "cell_type": "code",
   "execution_count": null,
   "metadata": {},
   "outputs": [],
   "source": [
    "# pass\n",
    "df = spark.read.parquet(f\"10m_string_30col_10row.parquet\")\n",
    "df.createOrReplaceTempView(\"T\")\n",
    "df.printSchema()\n",
    "print(\"n_row:\", df.count(), \"n_col:\", len(df.columns))\n",
    "spark.sql(\"SELECT udf_upper(10m_string_1) FROM T\").write.parquet(\"output_4.parquet\", mode=\"overwrite\")"
   ]
  },
  {
   "cell_type": "code",
   "execution_count": null,
   "metadata": {},
   "outputs": [],
   "source": [
    "# pass\n",
    "df = spark.read.parquet(f\"10m_string_40col_10row.parquet\")\n",
    "df.createOrReplaceTempView(\"T\")\n",
    "df.printSchema()\n",
    "print(\"n_row:\", df.count(), \"n_col:\", len(df.columns))\n",
    "spark.sql(\"SELECT udf_upper(10m_string_1) FROM T\").write.parquet(\"output_4.parquet\", mode=\"overwrite\")"
   ]
  },
  {
   "cell_type": "code",
   "execution_count": null,
   "metadata": {},
   "outputs": [],
   "source": [
    "# Fail\n",
    "df = spark.read.parquet(f\"10m_string_10col_20row.parquet\")\n",
    "df.createOrReplaceTempView(\"T\")\n",
    "df.printSchema()\n",
    "print(\"n_row:\", df.count(), \"n_col:\", len(df.columns))\n",
    "spark.sql(\"SELECT udf_upper(10m_string_1) FROM T\").write.parquet(\"output_5.parquet\", mode=\"overwrite\")"
   ]
  },
  {
   "cell_type": "code",
   "execution_count": null,
   "metadata": {},
   "outputs": [],
   "source": [
    "spark.stop()"
   ]
  },
  {
   "cell_type": "code",
   "execution_count": null,
   "metadata": {},
   "outputs": [],
   "source": []
  }
 ],
 "metadata": {
  "kernelspec": {
   "display_name": "venv",
   "language": "python",
   "name": "python3"
  },
  "language_info": {
   "codemirror_mode": {
    "name": "ipython",
    "version": 3
   },
   "file_extension": ".py",
   "mimetype": "text/x-python",
   "name": "python",
   "nbconvert_exporter": "python",
   "pygments_lexer": "ipython3",
   "version": "3.12.7"
  }
 },
 "nbformat": 4,
 "nbformat_minor": 2
}
