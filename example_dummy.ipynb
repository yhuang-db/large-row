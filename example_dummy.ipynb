{
 "cells": [
  {
   "cell_type": "code",
   "execution_count": 1,
   "metadata": {},
   "outputs": [
    {
     "name": "stderr",
     "output_type": "stream",
     "text": [
      "Setting default log level to \"WARN\".\n",
      "To adjust logging level use sc.setLogLevel(newLevel). For SparkR, use setLogLevel(newLevel).\n",
      "24/10/04 09:48:33 WARN NativeCodeLoader: Unable to load native-hadoop library for your platform... using builtin-java classes where applicable\n"
     ]
    }
   ],
   "source": [
    "test_file = \"10_cols_1_mb\"\n",
    "from pyspark.sql import SparkSession\n",
    "\n",
    "spark = SparkSession.builder.appName(\"LargeRowBenchmark\").getOrCreate()"
   ]
  },
  {
   "cell_type": "code",
   "execution_count": 2,
   "metadata": {},
   "outputs": [
    {
     "name": "stderr",
     "output_type": "stream",
     "text": [
      "                                                                                \r"
     ]
    },
    {
     "name": "stdout",
     "output_type": "stream",
     "text": [
      "+---+--------------------+--------------------+--------------------+--------------------+--------------------+--------------------+--------------------+--------------------+--------------------+--------------------+\n",
      "|uid|               col_0|               col_1|               col_2|               col_3|               col_4|               col_5|               col_6|               col_7|               col_8|               col_9|\n",
      "+---+--------------------+--------------------+--------------------+--------------------+--------------------+--------------------+--------------------+--------------------+--------------------+--------------------+\n",
      "|  1|This is a sentenc...|This is a sentenc...|This is a sentenc...|This is a sentenc...|This is a sentenc...|This is a sentenc...|This is a sentenc...|This is a sentenc...|This is a sentenc...|This is a sentenc...|\n",
      "+---+--------------------+--------------------+--------------------+--------------------+--------------------+--------------------+--------------------+--------------------+--------------------+--------------------+\n",
      "\n"
     ]
    }
   ],
   "source": [
    "df = spark.read.parquet(f\"data/dummy/{test_file}.parquet\")\n",
    "df.createOrReplaceTempView(\"T\")\n",
    "df.show(1)"
   ]
  },
  {
   "cell_type": "code",
   "execution_count": 3,
   "metadata": {},
   "outputs": [
    {
     "name": "stdout",
     "output_type": "stream",
     "text": [
      "Column: uid, LongType()\n",
      "Column: col_0, StringType(), length: 1048576\n",
      "Column: col_1, StringType(), length: 1048576\n",
      "Column: col_2, StringType(), length: 1048576\n",
      "Column: col_3, StringType(), length: 1048576\n",
      "Column: col_4, StringType(), length: 1048576\n",
      "Column: col_5, StringType(), length: 1048576\n",
      "Column: col_6, StringType(), length: 1048576\n",
      "Column: col_7, StringType(), length: 1048576\n",
      "Column: col_8, StringType(), length: 1048576\n",
      "Column: col_9, StringType(), length: 1048576\n"
     ]
    },
    {
     "name": "stderr",
     "output_type": "stream",
     "text": [
      "24/10/04 09:48:50 WARN GarbageCollectionMetrics: To enable non-built-in garbage collector(s) List(G1 Concurrent GC), users should configure it(them) to spark.eventLog.gcMetrics.youngGenerationGarbageCollectors or spark.eventLog.gcMetrics.oldGenerationGarbageCollectors\n"
     ]
    }
   ],
   "source": [
    "# print schema, and length of string columns\n",
    "from pyspark.sql.types import StringType\n",
    "from pyspark.sql.functions import length, col\n",
    "\n",
    "# show string column length\n",
    "for c in df.columns:\n",
    "    if df.schema[c].dataType is StringType():\n",
    "        str_length = df.select(length(col(c))).collect()[0][0]\n",
    "        print(f\"Column: {c}, {df.schema[c].dataType}, length: {str_length}\")\n",
    "    else:\n",
    "        print(f\"Column: {c}, {df.schema[c].dataType}\")"
   ]
  },
  {
   "cell_type": "code",
   "execution_count": 6,
   "metadata": {},
   "outputs": [
    {
     "name": "stdout",
     "output_type": "stream",
     "text": [
      "+-------+\n",
      "|size_mb|\n",
      "+-------+\n",
      "|    1.0|\n",
      "+-------+\n",
      "\n"
     ]
    }
   ],
   "source": [
    "sql = \"select length(col_0)/1024/1024 as size_mb from T\"\n",
    "spark.sql(sql).show()"
   ]
  },
  {
   "cell_type": "code",
   "execution_count": 7,
   "metadata": {},
   "outputs": [],
   "source": [
    "spark.stop()"
   ]
  },
  {
   "cell_type": "code",
   "execution_count": null,
   "metadata": {},
   "outputs": [],
   "source": []
  }
 ],
 "metadata": {
  "kernelspec": {
   "display_name": "venv",
   "language": "python",
   "name": "python3"
  },
  "language_info": {
   "codemirror_mode": {
    "name": "ipython",
    "version": 3
   },
   "file_extension": ".py",
   "mimetype": "text/x-python",
   "name": "python",
   "nbconvert_exporter": "python",
   "pygments_lexer": "ipython3",
   "version": "3.12.6"
  }
 },
 "nbformat": 4,
 "nbformat_minor": 2
}
